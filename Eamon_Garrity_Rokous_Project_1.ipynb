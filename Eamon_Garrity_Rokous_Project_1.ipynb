{
  "nbformat": 4,
  "nbformat_minor": 0,
  "metadata": {
    "colab": {
      "name": "Eamon_Garrity-Rokous_Project_1.ipynb",
      "provenance": [],
      "include_colab_link": true
    },
    "kernelspec": {
      "name": "python3",
      "display_name": "Python 3"
    }
  },
  "cells": [
    {
      "cell_type": "markdown",
      "metadata": {
        "id": "view-in-github",
        "colab_type": "text"
      },
      "source": [
        "<a href=\"https://colab.research.google.com/github/egarrityrokous/projects/blob/main/Eamon_Garrity_Rokous_Project_1.ipynb\" target=\"_parent\"><img src=\"https://colab.research.google.com/assets/colab-badge.svg\" alt=\"Open In Colab\"/></a>"
      ]
    },
    {
      "cell_type": "markdown",
      "metadata": {
        "id": "hRUCJQs7dEbW"
      },
      "source": [
        "###Eamon Garrity-Rokous\n",
        "###CSC350\n",
        "###Mr. Jacob\n",
        "###Project 1\n",
        "#Which Rapper Uses the Most Diverse Vocabulary in \"Wu-Tang Forever\" by Logic: A First Python Project"
      ]
    },
    {
      "cell_type": "markdown",
      "metadata": {
        "id": "7DEkx6Otd3T9"
      },
      "source": [
        "Sources looked at for inspiration:\n",
        "\n",
        "https://genius.com/Logic-wu-tang-forever-lyrics\n",
        "\n",
        "https://pudding.cool/projects/vocabulary/index.html"
      ]
    },
    {
      "cell_type": "code",
      "metadata": {
        "id": "nLQUHRD4dBSL",
        "colab": {
          "resources": {
            "http://localhost:8080/nbextensions/google.colab/files.js": {
              "data": "Ly8gQ29weXJpZ2h0IDIwMTcgR29vZ2xlIExMQwovLwovLyBMaWNlbnNlZCB1bmRlciB0aGUgQXBhY2hlIExpY2Vuc2UsIFZlcnNpb24gMi4wICh0aGUgIkxpY2Vuc2UiKTsKLy8geW91IG1heSBub3QgdXNlIHRoaXMgZmlsZSBleGNlcHQgaW4gY29tcGxpYW5jZSB3aXRoIHRoZSBMaWNlbnNlLgovLyBZb3UgbWF5IG9idGFpbiBhIGNvcHkgb2YgdGhlIExpY2Vuc2UgYXQKLy8KLy8gICAgICBodHRwOi8vd3d3LmFwYWNoZS5vcmcvbGljZW5zZXMvTElDRU5TRS0yLjAKLy8KLy8gVW5sZXNzIHJlcXVpcmVkIGJ5IGFwcGxpY2FibGUgbGF3IG9yIGFncmVlZCB0byBpbiB3cml0aW5nLCBzb2Z0d2FyZQovLyBkaXN0cmlidXRlZCB1bmRlciB0aGUgTGljZW5zZSBpcyBkaXN0cmlidXRlZCBvbiBhbiAiQVMgSVMiIEJBU0lTLAovLyBXSVRIT1VUIFdBUlJBTlRJRVMgT1IgQ09ORElUSU9OUyBPRiBBTlkgS0lORCwgZWl0aGVyIGV4cHJlc3Mgb3IgaW1wbGllZC4KLy8gU2VlIHRoZSBMaWNlbnNlIGZvciB0aGUgc3BlY2lmaWMgbGFuZ3VhZ2UgZ292ZXJuaW5nIHBlcm1pc3Npb25zIGFuZAovLyBsaW1pdGF0aW9ucyB1bmRlciB0aGUgTGljZW5zZS4KCi8qKgogKiBAZmlsZW92ZXJ2aWV3IEhlbHBlcnMgZm9yIGdvb2dsZS5jb2xhYiBQeXRob24gbW9kdWxlLgogKi8KKGZ1bmN0aW9uKHNjb3BlKSB7CmZ1bmN0aW9uIHNwYW4odGV4dCwgc3R5bGVBdHRyaWJ1dGVzID0ge30pIHsKICBjb25zdCBlbGVtZW50ID0gZG9jdW1lbnQuY3JlYXRlRWxlbWVudCgnc3BhbicpOwogIGVsZW1lbnQudGV4dENvbnRlbnQgPSB0ZXh0OwogIGZvciAoY29uc3Qga2V5IG9mIE9iamVjdC5rZXlzKHN0eWxlQXR0cmlidXRlcykpIHsKICAgIGVsZW1lbnQuc3R5bGVba2V5XSA9IHN0eWxlQXR0cmlidXRlc1trZXldOwogIH0KICByZXR1cm4gZWxlbWVudDsKfQoKLy8gTWF4IG51bWJlciBvZiBieXRlcyB3aGljaCB3aWxsIGJlIHVwbG9hZGVkIGF0IGEgdGltZS4KY29uc3QgTUFYX1BBWUxPQURfU0laRSA9IDEwMCAqIDEwMjQ7CgpmdW5jdGlvbiBfdXBsb2FkRmlsZXMoaW5wdXRJZCwgb3V0cHV0SWQpIHsKICBjb25zdCBzdGVwcyA9IHVwbG9hZEZpbGVzU3RlcChpbnB1dElkLCBvdXRwdXRJZCk7CiAgY29uc3Qgb3V0cHV0RWxlbWVudCA9IGRvY3VtZW50LmdldEVsZW1lbnRCeUlkKG91dHB1dElkKTsKICAvLyBDYWNoZSBzdGVwcyBvbiB0aGUgb3V0cHV0RWxlbWVudCB0byBtYWtlIGl0IGF2YWlsYWJsZSBmb3IgdGhlIG5leHQgY2FsbAogIC8vIHRvIHVwbG9hZEZpbGVzQ29udGludWUgZnJvbSBQeXRob24uCiAgb3V0cHV0RWxlbWVudC5zdGVwcyA9IHN0ZXBzOwoKICByZXR1cm4gX3VwbG9hZEZpbGVzQ29udGludWUob3V0cHV0SWQpOwp9CgovLyBUaGlzIGlzIHJvdWdobHkgYW4gYXN5bmMgZ2VuZXJhdG9yIChub3Qgc3VwcG9ydGVkIGluIHRoZSBicm93c2VyIHlldCksCi8vIHdoZXJlIHRoZXJlIGFyZSBtdWx0aXBsZSBhc3luY2hyb25vdXMgc3RlcHMgYW5kIHRoZSBQeXRob24gc2lkZSBpcyBnb2luZwovLyB0byBwb2xsIGZvciBjb21wbGV0aW9uIG9mIGVhY2ggc3RlcC4KLy8gVGhpcyB1c2VzIGEgUHJvbWlzZSB0byBibG9jayB0aGUgcHl0aG9uIHNpZGUgb24gY29tcGxldGlvbiBvZiBlYWNoIHN0ZXAsCi8vIHRoZW4gcGFzc2VzIHRoZSByZXN1bHQgb2YgdGhlIHByZXZpb3VzIHN0ZXAgYXMgdGhlIGlucHV0IHRvIHRoZSBuZXh0IHN0ZXAuCmZ1bmN0aW9uIF91cGxvYWRGaWxlc0NvbnRpbnVlKG91dHB1dElkKSB7CiAgY29uc3Qgb3V0cHV0RWxlbWVudCA9IGRvY3VtZW50LmdldEVsZW1lbnRCeUlkKG91dHB1dElkKTsKICBjb25zdCBzdGVwcyA9IG91dHB1dEVsZW1lbnQuc3RlcHM7CgogIGNvbnN0IG5leHQgPSBzdGVwcy5uZXh0KG91dHB1dEVsZW1lbnQubGFzdFByb21pc2VWYWx1ZSk7CiAgcmV0dXJuIFByb21pc2UucmVzb2x2ZShuZXh0LnZhbHVlLnByb21pc2UpLnRoZW4oKHZhbHVlKSA9PiB7CiAgICAvLyBDYWNoZSB0aGUgbGFzdCBwcm9taXNlIHZhbHVlIHRvIG1ha2UgaXQgYXZhaWxhYmxlIHRvIHRoZSBuZXh0CiAgICAvLyBzdGVwIG9mIHRoZSBnZW5lcmF0b3IuCiAgICBvdXRwdXRFbGVtZW50Lmxhc3RQcm9taXNlVmFsdWUgPSB2YWx1ZTsKICAgIHJldHVybiBuZXh0LnZhbHVlLnJlc3BvbnNlOwogIH0pOwp9CgovKioKICogR2VuZXJhdG9yIGZ1bmN0aW9uIHdoaWNoIGlzIGNhbGxlZCBiZXR3ZWVuIGVhY2ggYXN5bmMgc3RlcCBvZiB0aGUgdXBsb2FkCiAqIHByb2Nlc3MuCiAqIEBwYXJhbSB7c3RyaW5nfSBpbnB1dElkIEVsZW1lbnQgSUQgb2YgdGhlIGlucHV0IGZpbGUgcGlja2VyIGVsZW1lbnQuCiAqIEBwYXJhbSB7c3RyaW5nfSBvdXRwdXRJZCBFbGVtZW50IElEIG9mIHRoZSBvdXRwdXQgZGlzcGxheS4KICogQHJldHVybiB7IUl0ZXJhYmxlPCFPYmplY3Q+fSBJdGVyYWJsZSBvZiBuZXh0IHN0ZXBzLgogKi8KZnVuY3Rpb24qIHVwbG9hZEZpbGVzU3RlcChpbnB1dElkLCBvdXRwdXRJZCkgewogIGNvbnN0IGlucHV0RWxlbWVudCA9IGRvY3VtZW50LmdldEVsZW1lbnRCeUlkKGlucHV0SWQpOwogIGlucHV0RWxlbWVudC5kaXNhYmxlZCA9IGZhbHNlOwoKICBjb25zdCBvdXRwdXRFbGVtZW50ID0gZG9jdW1lbnQuZ2V0RWxlbWVudEJ5SWQob3V0cHV0SWQpOwogIG91dHB1dEVsZW1lbnQuaW5uZXJIVE1MID0gJyc7CgogIGNvbnN0IHBpY2tlZFByb21pc2UgPSBuZXcgUHJvbWlzZSgocmVzb2x2ZSkgPT4gewogICAgaW5wdXRFbGVtZW50LmFkZEV2ZW50TGlzdGVuZXIoJ2NoYW5nZScsIChlKSA9PiB7CiAgICAgIHJlc29sdmUoZS50YXJnZXQuZmlsZXMpOwogICAgfSk7CiAgfSk7CgogIGNvbnN0IGNhbmNlbCA9IGRvY3VtZW50LmNyZWF0ZUVsZW1lbnQoJ2J1dHRvbicpOwogIGlucHV0RWxlbWVudC5wYXJlbnRFbGVtZW50LmFwcGVuZENoaWxkKGNhbmNlbCk7CiAgY2FuY2VsLnRleHRDb250ZW50ID0gJ0NhbmNlbCB1cGxvYWQnOwogIGNvbnN0IGNhbmNlbFByb21pc2UgPSBuZXcgUHJvbWlzZSgocmVzb2x2ZSkgPT4gewogICAgY2FuY2VsLm9uY2xpY2sgPSAoKSA9PiB7CiAgICAgIHJlc29sdmUobnVsbCk7CiAgICB9OwogIH0pOwoKICAvLyBXYWl0IGZvciB0aGUgdXNlciB0byBwaWNrIHRoZSBmaWxlcy4KICBjb25zdCBmaWxlcyA9IHlpZWxkIHsKICAgIHByb21pc2U6IFByb21pc2UucmFjZShbcGlja2VkUHJvbWlzZSwgY2FuY2VsUHJvbWlzZV0pLAogICAgcmVzcG9uc2U6IHsKICAgICAgYWN0aW9uOiAnc3RhcnRpbmcnLAogICAgfQogIH07CgogIGNhbmNlbC5yZW1vdmUoKTsKCiAgLy8gRGlzYWJsZSB0aGUgaW5wdXQgZWxlbWVudCBzaW5jZSBmdXJ0aGVyIHBpY2tzIGFyZSBub3QgYWxsb3dlZC4KICBpbnB1dEVsZW1lbnQuZGlzYWJsZWQgPSB0cnVlOwoKICBpZiAoIWZpbGVzKSB7CiAgICByZXR1cm4gewogICAgICByZXNwb25zZTogewogICAgICAgIGFjdGlvbjogJ2NvbXBsZXRlJywKICAgICAgfQogICAgfTsKICB9CgogIGZvciAoY29uc3QgZmlsZSBvZiBmaWxlcykgewogICAgY29uc3QgbGkgPSBkb2N1bWVudC5jcmVhdGVFbGVtZW50KCdsaScpOwogICAgbGkuYXBwZW5kKHNwYW4oZmlsZS5uYW1lLCB7Zm9udFdlaWdodDogJ2JvbGQnfSkpOwogICAgbGkuYXBwZW5kKHNwYW4oCiAgICAgICAgYCgke2ZpbGUudHlwZSB8fCAnbi9hJ30pIC0gJHtmaWxlLnNpemV9IGJ5dGVzLCBgICsKICAgICAgICBgbGFzdCBtb2RpZmllZDogJHsKICAgICAgICAgICAgZmlsZS5sYXN0TW9kaWZpZWREYXRlID8gZmlsZS5sYXN0TW9kaWZpZWREYXRlLnRvTG9jYWxlRGF0ZVN0cmluZygpIDoKICAgICAgICAgICAgICAgICAgICAgICAgICAgICAgICAgICAgJ24vYSd9IC0gYCkpOwogICAgY29uc3QgcGVyY2VudCA9IHNwYW4oJzAlIGRvbmUnKTsKICAgIGxpLmFwcGVuZENoaWxkKHBlcmNlbnQpOwoKICAgIG91dHB1dEVsZW1lbnQuYXBwZW5kQ2hpbGQobGkpOwoKICAgIGNvbnN0IGZpbGVEYXRhUHJvbWlzZSA9IG5ldyBQcm9taXNlKChyZXNvbHZlKSA9PiB7CiAgICAgIGNvbnN0IHJlYWRlciA9IG5ldyBGaWxlUmVhZGVyKCk7CiAgICAgIHJlYWRlci5vbmxvYWQgPSAoZSkgPT4gewogICAgICAgIHJlc29sdmUoZS50YXJnZXQucmVzdWx0KTsKICAgICAgfTsKICAgICAgcmVhZGVyLnJlYWRBc0FycmF5QnVmZmVyKGZpbGUpOwogICAgfSk7CiAgICAvLyBXYWl0IGZvciB0aGUgZGF0YSB0byBiZSByZWFkeS4KICAgIGxldCBmaWxlRGF0YSA9IHlpZWxkIHsKICAgICAgcHJvbWlzZTogZmlsZURhdGFQcm9taXNlLAogICAgICByZXNwb25zZTogewogICAgICAgIGFjdGlvbjogJ2NvbnRpbnVlJywKICAgICAgfQogICAgfTsKCiAgICAvLyBVc2UgYSBjaHVua2VkIHNlbmRpbmcgdG8gYXZvaWQgbWVzc2FnZSBzaXplIGxpbWl0cy4gU2VlIGIvNjIxMTU2NjAuCiAgICBsZXQgcG9zaXRpb24gPSAwOwogICAgZG8gewogICAgICBjb25zdCBsZW5ndGggPSBNYXRoLm1pbihmaWxlRGF0YS5ieXRlTGVuZ3RoIC0gcG9zaXRpb24sIE1BWF9QQVlMT0FEX1NJWkUpOwogICAgICBjb25zdCBjaHVuayA9IG5ldyBVaW50OEFycmF5KGZpbGVEYXRhLCBwb3NpdGlvbiwgbGVuZ3RoKTsKICAgICAgcG9zaXRpb24gKz0gbGVuZ3RoOwoKICAgICAgY29uc3QgYmFzZTY0ID0gYnRvYShTdHJpbmcuZnJvbUNoYXJDb2RlLmFwcGx5KG51bGwsIGNodW5rKSk7CiAgICAgIHlpZWxkIHsKICAgICAgICByZXNwb25zZTogewogICAgICAgICAgYWN0aW9uOiAnYXBwZW5kJywKICAgICAgICAgIGZpbGU6IGZpbGUubmFtZSwKICAgICAgICAgIGRhdGE6IGJhc2U2NCwKICAgICAgICB9LAogICAgICB9OwoKICAgICAgbGV0IHBlcmNlbnREb25lID0gZmlsZURhdGEuYnl0ZUxlbmd0aCA9PT0gMCA/CiAgICAgICAgICAxMDAgOgogICAgICAgICAgTWF0aC5yb3VuZCgocG9zaXRpb24gLyBmaWxlRGF0YS5ieXRlTGVuZ3RoKSAqIDEwMCk7CiAgICAgIHBlcmNlbnQudGV4dENvbnRlbnQgPSBgJHtwZXJjZW50RG9uZX0lIGRvbmVgOwoKICAgIH0gd2hpbGUgKHBvc2l0aW9uIDwgZmlsZURhdGEuYnl0ZUxlbmd0aCk7CiAgfQoKICAvLyBBbGwgZG9uZS4KICB5aWVsZCB7CiAgICByZXNwb25zZTogewogICAgICBhY3Rpb246ICdjb21wbGV0ZScsCiAgICB9CiAgfTsKfQoKc2NvcGUuZ29vZ2xlID0gc2NvcGUuZ29vZ2xlIHx8IHt9OwpzY29wZS5nb29nbGUuY29sYWIgPSBzY29wZS5nb29nbGUuY29sYWIgfHwge307CnNjb3BlLmdvb2dsZS5jb2xhYi5fZmlsZXMgPSB7CiAgX3VwbG9hZEZpbGVzLAogIF91cGxvYWRGaWxlc0NvbnRpbnVlLAp9Owp9KShzZWxmKTsK",
              "ok": true,
              "headers": [
                [
                  "content-type",
                  "application/javascript"
                ]
              ],
              "status": 200,
              "status_text": ""
            }
          },
          "base_uri": "https://localhost:8080/",
          "height": 327
        },
        "outputId": "5a84c48d-81de-498e-9c88-1b979a61af5a"
      },
      "source": [
        "from google.colab import files\n",
        "uploaded = files.upload()\n",
        "text = uploaded['Wu-Tang_Forever.txt']\n",
        "text = text.decode(encoding='utf-8', errors='strict')\n",
        "\n",
        "characters=[\".\",\"!\",\",\",\"?\",\"(\",\")\",\"-\",'\"'] \n",
        "for char in text: \n",
        "  if char in characters: \n",
        "    text=text.replace(char,\" \") \n",
        "\n",
        "text=text.upper()\n",
        "\n",
        "Logic_location=text.find(\"[LOGIC:]\")\n",
        "Ghostface_Killah_location=text.find(\"[GHOSTFACE KILLAH:]\")\n",
        "Raekwon_location=text.find(\"[RAEKWON:]\")\n",
        "RZA_location=text.find(\"[RZA:]\")\n",
        "Method_Man_location=text.find(\"[METHOD MAN:]\")\n",
        "Inspectah_Deck_location=text.find(\"[INSPECTAH DECK:]\")\n",
        "Cappadonna_location_1=text.find(\"[CAPPADONNA:]\")\n",
        "Jackpot_Scotty_Wotty_location=text.find(\"[JACKPOT SCOTTY WOTTY:]\")\n",
        "U_God_location=text.find(\"[U GOD:]\")\n",
        "Masta_Killa_location=text.find(\"[MASTA KILLA:]\")\n",
        "GZA_location=text.find(\"[MASTA KILLA:]\")\n",
        "Cappadonna_location_2=text.find(\"[CAPPADONNA:]\",7160)\n",
        "\n",
        "print(\"Logic\", Logic_location)\n",
        "print(\"Ghostface Killah\", Ghostface_Killah_location)\n",
        "print(\"Raekwon\", Raekwon_location)\n",
        "print(\"RZA\", RZA_location)\n",
        "print(\"Method Man\", Method_Man_location)\n",
        "print(\"Inspectah Deck\", Inspectah_Deck_location)\n",
        "print(\"Cappadonna 1\", Cappadonna_location_1)\n",
        "print(\"Jackpot Scotty Wotty\", Jackpot_Scotty_Wotty_location)\n",
        "print(\"U-God\", U_God_location)\n",
        "print(\"Masta Killa\", Masta_Killa_location)\n",
        "print(\"GZA\", GZA_location)\n",
        "print(\"Cappadonna 2\", Cappadonna_location_2)\n",
        "\n",
        "Logic_unique_words=[]\n",
        "for word in Logic_text: \n",
        "  if word not in Logic_unique_words: \n",
        "    Logic_unique_words.append(word) \n",
        "    Logic=(len(Logic_unique_words)/len(Logic_text)*100)\n",
        "print(len(Logic_unique_words))\n",
        "print(len(Logic_text))\n",
        "print(Logic)"
      ],
      "execution_count": 3,
      "outputs": [
        {
          "output_type": "display_data",
          "data": {
            "text/html": [
              "\n",
              "     <input type=\"file\" id=\"files-7cefec2b-f017-402c-abe4-3324e470e66d\" name=\"files[]\" multiple disabled\n",
              "        style=\"border:none\" />\n",
              "     <output id=\"result-7cefec2b-f017-402c-abe4-3324e470e66d\">\n",
              "      Upload widget is only available when the cell has been executed in the\n",
              "      current browser session. Please rerun this cell to enable.\n",
              "      </output>\n",
              "      <script src=\"/nbextensions/google.colab/files.js\"></script> "
            ],
            "text/plain": [
              "<IPython.core.display.HTML object>"
            ]
          },
          "metadata": {}
        },
        {
          "output_type": "stream",
          "name": "stdout",
          "text": [
            "Saving Wu-Tang_Forever.txt to Wu-Tang_Forever (1).txt\n",
            "Logic 276\n",
            "Ghostface Killah 1051\n",
            "Raekwon 1747\n",
            "RZA 2331\n",
            "Method Man 3383\n",
            "Inspectah Deck 4221\n",
            "Cappadonna 1 4937\n",
            "Jackpot Scotty Wotty 5949\n",
            "U-God 6664\n",
            "Masta Killa 7160\n",
            "GZA 7160\n",
            "Cappadonna 2 -1\n",
            "1\n",
            "1\n",
            "100.0\n"
          ]
        }
      ]
    },
    {
      "cell_type": "code",
      "metadata": {
        "id": "TUY-cWyZDTfG",
        "colab": {
          "resources": {
            "http://localhost:8080/nbextensions/google.colab/files.js": {
              "data": "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",
              "ok": true,
              "headers": [
                [
                  "content-type",
                  "application/javascript"
                ]
              ],
              "status": 200,
              "status_text": ""
            }
          },
          "base_uri": "https://localhost:8080/",
          "height": 293
        },
        "outputId": "e291585e-3da7-410e-a822-27030cdcad9e"
      },
      "source": [
        "from google.colab import files\n",
        "uploaded = files.upload()\n",
        "text = uploaded['Wu-Tang_Forever.txt']\n",
        "text = text.decode(encoding='utf-8', errors='strict')\n",
        "\n",
        "characters=[\".\",\"!\",\",\",\"?\",\"(\",\")\",\"-\",'\"'] \n",
        "for char in text: \n",
        "  if char in characters: \n",
        "    text=text.replace(char,\" \") \n",
        "\n",
        "text=text.upper()\n",
        "text=text.split()\n",
        "\n",
        "Intro_location=text.index(\"[INTRO:]\") #Intro 0\n",
        "Logic_location=text.index(\"[LOGIC:]\") #Logic 55\n",
        "Ghostface_Killah_location=text.index(\"[GHOSTFACE\") #Ghostface Killah 197\n",
        "Raekwon_location=text.index(\"[RAEKWON:]\") #Raekwon 319\n",
        "RZA_location=text.index(\"[RZA:]\") #RZA 429\n",
        "Method_Man_location=text.index(\"[METHOD\") #Method Man 610\n",
        "Inspectah_Deck_location=text.index(\"[INSPECTAH\") #Inspectah Deck 757\n",
        "Cappadonna_location=text.index(\"[CAPPADONNA:]\") #Cappadonna 884\n",
        "Jackpot_Scotty_Wotty_location=text.index(\"[JACKPOT\") #Jackpot Scotty Wotty 1086\n",
        "U_God_location=text.index(\"[U\") #U-God 1221\n",
        "Masta_Killa_location=text.index(\"[MASTA\") #Masta Killa 1320\n",
        "GZA_location=text.index(\"[GZA:]\") #GZA 1409\n",
        "Outro_location=text.index(\"[OUTRO:]\") #Outro 1469\n",
        "\n",
        "print(\"Intro\",Intro_location)\n",
        "print(\"Logic\", Logic_location)\n",
        "print(\"Ghostface Killah\", Ghostface_Killah_location)\n",
        "print(\"Raekwon\", Raekwon_location)\n",
        "print(\"RZA\", RZA_location)\n",
        "print(\"Method Man\", Method_Man_location)\n",
        "print(\"Inspectah Deck\", Inspectah_Deck_location)\n",
        "print(\"Cappadonna\", Cappadonna_location)\n",
        "print(\"Jackpot Scotty Wotty\", Jackpot_Scotty_Wotty_location)\n",
        "print(\"U-God\", U_God_location)\n",
        "print(\"Masta Killa\", Masta_Killa_location)\n",
        "print(\"GZA\", GZA_location)\n",
        "print(\"Outro\",Outro_location)"
      ],
      "execution_count": 4,
      "outputs": [
        {
          "output_type": "display_data",
          "data": {
            "text/html": [
              "\n",
              "     <input type=\"file\" id=\"files-0a7979d0-4a70-4f98-b863-1766df9a3697\" name=\"files[]\" multiple disabled\n",
              "        style=\"border:none\" />\n",
              "     <output id=\"result-0a7979d0-4a70-4f98-b863-1766df9a3697\">\n",
              "      Upload widget is only available when the cell has been executed in the\n",
              "      current browser session. Please rerun this cell to enable.\n",
              "      </output>\n",
              "      <script src=\"/nbextensions/google.colab/files.js\"></script> "
            ],
            "text/plain": [
              "<IPython.core.display.HTML object>"
            ]
          },
          "metadata": {}
        },
        {
          "output_type": "stream",
          "name": "stdout",
          "text": [
            "Saving Wu-Tang_Forever.txt to Wu-Tang_Forever (2).txt\n",
            "Intro 0\n",
            "Logic 55\n",
            "Ghostface Killah 197\n",
            "Raekwon 319\n",
            "RZA 429\n",
            "Method Man 610\n",
            "Inspectah Deck 757\n",
            "Cappadonna 884\n",
            "Jackpot Scotty Wotty 1086\n",
            "U-God 1221\n",
            "Masta Killa 1320\n",
            "GZA 1409\n",
            "Outro 1469\n"
          ]
        }
      ]
    },
    {
      "cell_type": "code",
      "metadata": {
        "id": "OQWXf8yOx5nO",
        "colab": {
          "resources": {
            "http://localhost:8080/nbextensions/google.colab/files.js": {
              "data": "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",
              "ok": true,
              "headers": [
                [
                  "content-type",
                  "application/javascript"
                ]
              ],
              "status": 200,
              "status_text": ""
            }
          },
          "base_uri": "https://localhost:8080/",
          "height": 633
        },
        "outputId": "847cf170-1706-4e36-96b9-a1213556db4f"
      },
      "source": [
        "from google.colab import files\n",
        "uploaded = files.upload()\n",
        "text = uploaded['Wu-Tang_Forever.txt']\n",
        "text = text.decode(encoding='utf-8', errors='strict')\n",
        "\n",
        "characters=[\".\",\"!\",\",\",\"?\",\"(\",\")\",\"-\",'\"'] \n",
        "for char in text: \n",
        "  if char in characters: \n",
        "    text=text.replace(char,\" \") \n",
        "\n",
        "text=text.upper()\n",
        "text=text.split()\n",
        "\n",
        "Intro_text=text[1:55]\n",
        "Logic_text=text[56:197]\n",
        "Ghostface_Killah_text=text[199:319]\n",
        "Raekwon_text=text[320:429]\n",
        "RZA_text=text[430:610]\n",
        "Method_Man_text=text[612:757]\n",
        "Inspectah_Deck_text=text[759:884]\n",
        "Cappadonna_text=text[885:1086]\n",
        "Jackpot_Scotty_Wotty_text=text[1089:1221]\n",
        "U_God_text=text[1223:1320]\n",
        "Masta_Killa_text=text[1322:1409]\n",
        "GZA_text=text[1410:1469]\n",
        "Outro_text=text[1470:]\n",
        "\n",
        "Logic_vocab=[]\n",
        "for word in Logic_text: \n",
        "  if word not in Logic_vocab: \n",
        "    Logic_vocab.append(word) \n",
        "    Logic=(len(Logic_vocab)/len(Logic_text)*100)\n",
        "print(len(Logic_vocab))\n",
        "print(len(Logic_text))\n",
        "print(Logic)\n",
        "\n",
        "Ghostface_Killah_vocab=[]\n",
        "for word in Ghostface_Killah_text: \n",
        "  if word not in Ghostface_Killah_vocab: \n",
        "    Ghostface_Killah_vocab.append(word) \n",
        "    Ghostface_Killah=(len(Ghostface_Killah_vocab)/len(Ghostface_Killah_text)*100)\n",
        "print(len(Ghostface_Killah_vocab))\n",
        "print(len(Ghostface_Killah_text))\n",
        "print(Ghostface_Killah)\n",
        "\n",
        "Raekwon_vocab=[]\n",
        "for word in Raekwon_text: \n",
        "  if word not in Raekwon_vocab: \n",
        "    Raekwon_vocab.append(word) \n",
        "    Raekwon=(len(Raekwon_vocab)/len(Raekwon_text)*100)\n",
        "print(len(Raekwon_vocab))\n",
        "print(len(Raekwon_text))\n",
        "print(Raekwon)\n",
        "\n",
        "RZA_vocab=[]\n",
        "for word in RZA_text: \n",
        "  if word not in RZA_vocab: \n",
        "    RZA_vocab.append(word) \n",
        "    RZA=(len(RZA_vocab)/len(RZA_text)*100)\n",
        "print(len(Logic_unique_words))\n",
        "print(len(RZA_text))\n",
        "print(RZA)\n",
        "\n",
        "Method_Man_vocab=[]\n",
        "for word in Method_Man_text: \n",
        "  if word not in Method_Man_vocab: \n",
        "    Method_Man_vocab.append(word) \n",
        "    Method_Man=(len(Method_Man_vocab)/len(Method_Man_text)*100)\n",
        "print(len(Method_Man_vocab))\n",
        "print(len(Method_Man_text))\n",
        "print(Method_Man)\n",
        "\n",
        "Inspectah_Deck_vocab=[]\n",
        "for word in Inspectah_Deck_text: \n",
        "  if word not in Inspectah_Deck_vocab: \n",
        "    Inspectah_Deck_vocab.append(word) \n",
        "    Inspectah_Deck=(len(Inspectah_Deck_vocab)/len(Inspectah_Deck_text)*100)\n",
        "print(len(Inspectah_Deck_vocab))\n",
        "print(len(Inspectah_Deck_text))\n",
        "print(Inspectah_Deck)\n",
        "\n",
        "Cappadonna_vocab=[]\n",
        "for word in Cappadonna_text: \n",
        "  if word not in Cappadonna_vocab: \n",
        "    Cappadonna_vocab.append(word) \n",
        "    Cappadonna=(len(Cappadonna_vocab)/len(Cappadonna_text)*100)\n",
        "print(len(Cappadonna_vocab))\n",
        "print(len(Cappadonna_text))\n",
        "print(Cappadonna)\n",
        "\n",
        "Jackpot_Scotty_Wotty_vocab=[]\n",
        "for word in Jackpot_Scotty_Wotty_text: \n",
        "  if word not in Jackpot_Scotty_Wotty_vocab: \n",
        "    Jackpot_Scotty_Wotty_vocab.append(word) \n",
        "    Jackpot_Scotty_Wotty=(len(Jackpot_Scotty_Wotty_vocab)/len(Jackpot_Scotty_Wotty_text)*100)\n",
        "print(len(Jackpot_Scotty_Wotty_vocab))\n",
        "print(len(Jackpot_Scotty_Wotty_text))\n",
        "print(Jackpot_Scotty_Wotty)\n",
        "\n",
        "U_God_vocab=[]\n",
        "for word in U_God_text: \n",
        "  if word not in U_God_vocab: \n",
        "    U_God_vocab.append(word) \n",
        "    U_God=(len(U_God_vocab)/len(U_God_text)*100)\n",
        "print(len(U_God_vocab))\n",
        "print(len(U_God_text))\n",
        "print(U_God)\n",
        "\n",
        "Masta_Killa_vocab=[]\n",
        "for word in Masta_Killa_text: \n",
        "  if word not in Masta_Killa_vocab: \n",
        "    Masta_Killa_vocab.append(word) \n",
        "    Masta_Killa=(len(Masta_Killa_vocab)/len(Masta_Killa_text)*100)\n",
        "print(len(Masta_Killa_vocab))\n",
        "print(len(Masta_Killa_text))\n",
        "print(Masta_Killa)\n",
        "\n",
        "GZA_vocab=[]\n",
        "for word in GZA_text: \n",
        "  if word not in GZA_vocab: \n",
        "    GZA_vocab.append(word) \n",
        "    GZA=(len(GZA_vocab)/len(GZA_text)*100)\n",
        "print(len(GZA_vocab))\n",
        "print(len(GZA_text))\n",
        "print(GZA)"
      ],
      "execution_count": 5,
      "outputs": [
        {
          "output_type": "display_data",
          "data": {
            "text/html": [
              "\n",
              "     <input type=\"file\" id=\"files-ccba62f1-a06f-4a3c-a521-719aac9672b5\" name=\"files[]\" multiple disabled\n",
              "        style=\"border:none\" />\n",
              "     <output id=\"result-ccba62f1-a06f-4a3c-a521-719aac9672b5\">\n",
              "      Upload widget is only available when the cell has been executed in the\n",
              "      current browser session. Please rerun this cell to enable.\n",
              "      </output>\n",
              "      <script src=\"/nbextensions/google.colab/files.js\"></script> "
            ],
            "text/plain": [
              "<IPython.core.display.HTML object>"
            ]
          },
          "metadata": {}
        },
        {
          "output_type": "stream",
          "name": "stdout",
          "text": [
            "Saving Wu-Tang_Forever.txt to Wu-Tang_Forever (3).txt\n",
            "105\n",
            "141\n",
            "74.46808510638297\n",
            "90\n",
            "120\n",
            "75.0\n",
            "83\n",
            "109\n",
            "76.14678899082568\n",
            "1\n",
            "180\n",
            "78.88888888888889\n",
            "108\n",
            "145\n",
            "74.48275862068967\n",
            "101\n",
            "125\n",
            "80.80000000000001\n",
            "124\n",
            "201\n",
            "61.69154228855721\n",
            "101\n",
            "132\n",
            "76.51515151515152\n",
            "75\n",
            "97\n",
            "77.31958762886599\n",
            "71\n",
            "87\n",
            "81.60919540229885\n",
            "47\n",
            "59\n",
            "79.66101694915254\n"
          ]
        }
      ]
    },
    {
      "cell_type": "code",
      "metadata": {
        "id": "8C1CISITxsIm",
        "colab": {
          "resources": {
            "http://localhost:8080/nbextensions/google.colab/files.js": {
              "data": "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",
              "ok": true,
              "headers": [
                [
                  "content-type",
                  "application/javascript"
                ]
              ],
              "status": 200,
              "status_text": ""
            }
          },
          "base_uri": "https://localhost:8080/",
          "height": 72
        },
        "outputId": "043774bf-c7bb-462a-e95c-b80370357c1c"
      },
      "source": [
        "from google.colab import files\n",
        "uploaded = files.upload()\n",
        "text = uploaded['Wu-Tang_Forever.txt']\n",
        "text = text.decode(encoding='utf-8', errors='strict')\n",
        "\n",
        "characters=[\".\",\"!\",\",\",\"?\",\"(\",\")\",\"-\",'\"'] \n",
        "for char in text: \n",
        "  if char in characters: \n",
        "    text=text.replace(char,\" \") \n",
        "\n",
        "text=text.upper()\n",
        "text=text.split('[')"
      ],
      "execution_count": 6,
      "outputs": [
        {
          "output_type": "display_data",
          "data": {
            "text/html": [
              "\n",
              "     <input type=\"file\" id=\"files-6c094ae4-d623-4fa7-9aad-1a6948e1d0a3\" name=\"files[]\" multiple disabled\n",
              "        style=\"border:none\" />\n",
              "     <output id=\"result-6c094ae4-d623-4fa7-9aad-1a6948e1d0a3\">\n",
              "      Upload widget is only available when the cell has been executed in the\n",
              "      current browser session. Please rerun this cell to enable.\n",
              "      </output>\n",
              "      <script src=\"/nbextensions/google.colab/files.js\"></script> "
            ],
            "text/plain": [
              "<IPython.core.display.HTML object>"
            ]
          },
          "metadata": {}
        },
        {
          "output_type": "stream",
          "name": "stdout",
          "text": [
            "Saving Wu-Tang_Forever.txt to Wu-Tang_Forever (4).txt\n"
          ]
        }
      ]
    },
    {
      "cell_type": "code",
      "metadata": {
        "id": "0VsXj2rt232Y",
        "colab": {
          "base_uri": "https://localhost:8080/"
        },
        "outputId": "b99d2c42-649f-468f-a9ca-11a3ff62a0dc"
      },
      "source": [
        "Logic_text=text[1]\n",
        "print(Logic)"
      ],
      "execution_count": 7,
      "outputs": [
        {
          "output_type": "stream",
          "name": "stdout",
          "text": [
            "['', \"INTRO:]\\nEN GARDE  I'LL LET YOU TRY MY WU TANG STYLE\\nI'D LIKE TO TRY YOUR WU TANG STYLE  LET'S BEGIN  THEN\\nSHAOLIN SHADOWBOXING AND THE WU TANG SWORD STYLE\\nIF WHAT YOU SAY IS TRUE  THE SHAOLIN AND THE WU TANG COULD BE DANGEROUS\\nDO YOU THINK YOUR WU TANG SWORD CAN DEFEAT ME \\n\\n\", \"LOGIC:]\\nAYE YO  WU TANG FOREVER\\nWHO RHYME BETTER \\nWE TOO CLEVER  THE BOOM BAP'S BACK  HARDER THAN EVER\\nR I P  O D B\\nCOMIN' THROUGH LIKE KILLA BEE\\nEVER SINCE I HEARD ENTER THE 36 IN '93\\nYOU CANNOT DEFEAT MY WU TANG STYLE  I LEAVE 'EM ALL DISMEMBERED\\nFUCK A MUMBLE RAP  THAT SHIT WON'T EVER BE REMEMBERED\\nNOT EVEN A CONTENDER  NO  PRETENDER  BEST SURRENDER\\nMY AGENDA IS KILLIN' SHIT  THEY FEELIN' THIS  SINATRA \\nYEAH  WE LIVE AND THOROUGH\\nASSASSINATIN' EVERY SINGLE MUTHAFUCKIN' BOROUGH\\nFROM STATEN TO BROOKLYN TO QUEENS  THE BRONX AND HARLEM  ALL THE WAY TO MARYLAND\\nYEAH  WE COMIN' FOR ALL OF 'EM\\nBOBBY TARANTINO TO THE DIGITAL\\nMY SHIT IS PIVOTAL\\nSMOKIN' CHRONIC  NO MEDICINAL\\nWHO YOU KNOW ASSEMBLE THE CLAN LIKE VOLTRON \\nTHE ONE AND ONLY LOGIC  THE GOD  THE DON  I'M GONE\\n\\n\", \"GHOSTFACE KILLAH:]\\nAYE YO  LOGIC  WHAT UP  \\nWE GON' LET THESE MUTHAFUCKAS TRY THIS WU TANG STYLE\\nYO  YO  YO  YO  YO  KABOOM \\nGUESS WHO STEPPED IN THE ROOM\\nIT'S GHOSTFACE  GOLD PLATES  OLD TRUTHS  MORE K\\nINTELLIGENT BROTHERS WITH NINE HOODS  MOVIN' SNOWFLAKES\\nGUILLOTINE YOUR HEAD  LAST SCENE IN THE SHOWCASE\\nPUSH WEIGHT  THIS COLGATE\\nTRE EIGHTS AND OLD GATES\\nEXFOLIATE THOSE WE MOST HATE\\nWE DON'T ASSOCIATE\\nWE WEAR ROBES THAT YOU CAN'T EVEN PRONOUNCE IATE\\nWE EAT FOODS WHERE YOU CAN'T EVEN PRONOUNCE YOU ATE\\nCRIBS WHERE THE FLOOR JUST RISES UP AND ROTATES\\nLOCATIONS LOW KEY  CAN'T EVEN LOCATE\\nTWIN NINA SISTERS WITH THE BEAM  WE ALL SOULMATES\\nTEA MAKIN' US SO MUCH CREAM  WE BOUGHT GOLD PLATES\\n\\n\", \"RAEKWON:]\\nYO  MOUNTAINS OF HAZE IN THE CRIB OF MY BLADES\\nIT GETS MESSY UNDERNEATH THE DRESSER  THE GAUGE\\n57 MB  YO  METALLIC GREEN\\nSEATS IS PIPED OFF\\nSEIZE THEM OLD TRACKS  UNITE THROUGH 'EM\\nTHE KITCHEN IS MY PALACE  GET YOUR DANCE ON\\nWHILE WE JUST LEVITATE WITH TREES  GET YOUR BRANCH ON\\nI'M KNOW TO WIL' OUT  PUT THE CAMS ON\\nJEWELS DOWN  THE SETS DIP  MY GEMS GOT GRAMS ON\\nA SPECIALIST WHEN I'M BAKIN'\\nRHYMES BE COMIN' OUT  WE MAKIN'\\nWE CHALLENGIN' THESE CHUMPS FOR LUMPS\\nHERE'S THE STATEMENT STOP HATIN'\\nTHE CREW IS ALL ABOUT GETTIN' THIS CAKE IN\\nYOU KNOW ABOUT ME  YOU RELATIN'\\n\\n\", \"RZA:]\\nTHE ENIGMA  THE STIGMAS THAT THE RZA AND THE GZA\\nBOTH LYRICAL PROLIFIC  FIXTURES OF RAP SCRIPTURES\\nMIXTURES OF HIPSTERS  WEED SMOKERS AND BEER DRINKERS\\nPRINCE AND THE PAUPER  SPIRITUAL CLEAR THINKERS\\nCAKE IN THE OVEN  SUPERBAD LIKE MCLOVIN HUGGIN' ALL FOUR BOROUGHS  PUFFIN' HERB WITH MY COUSIN\\nACADEMICALLY SPEAKING  RAP VOCABULARY'S WEAKENIN'\\nI FELT IT COMIN' LIKE THE WEEKND WHEN THESE STARBOYS START TWEAKIN'\\nSPORADIC PILL POPPIN' OF OXYCONTIN\\nIII GOTTEN SEXUAL INTERCOURSE MAKE SHORTY WOP FEEL ROTTEN\\nTHE TRAVESTY TAPESTRY OF MICROPHONE MASTERY HAS BEEN REFUTED  DILUTED   BROKEN DOWN TO A CATASTROPHE\\nBUT CATS STILL GET GOOD TROPHY\\nHIT Y'ALL WITH THEIR  OKIE DOKIE \\nBURT REYNOLDS  BANDIT  GODDAMNIT\\nWHERE THE FUCK IS SMOKEY BEAR WHEN YOU NEED ONE\\nI GOT A LIGHT BEAM GUN\\nI'LL BLAST A HOLE IN YOUR CHEST THAT YOU CAN'T BLEED FROM\\nBUT YOU'LL DIE THROUGH INIQUITY  PLUS STUPIDITY OF THAT TRICKERY\\nMY VERSE GOT IT HOT UP IN HERE  NOT THE HUMIDITY\\nYOU CAN NEVER GET RID OF ME  STEP BACK AND CONSIDER ME\\nWU KILLA BEE  BUT I'M NOT BIG ON BIGOTRY\\n\\n\", \"METHOD MAN:]\\nOLD SCHOOL ON THIS TRACK  I FEEL INVINCIBLE\\nTHIS NEW SCHOOL AIN'T REALLY GOT RULES AND LACKS THE PRINCIPLES\\nGOT MO' CLOWNS THAN THE MOTOWN  THEY PUTTIN' CRITICAL\\nTHE GUN  SMOKEY ROBINSON  YOU NEED A MIRACLE\\nGO BACK  HOMIE  BACK WHEN RAPPERS USED TO BE LYRICAL\\nWHEN NINE OUT OF TEN THAT WAS FRIENDS USED TO BE CRIMINAL\\nTHE STATS  HOMIE  ALL THESE KILLAS USIN' SUBLIMINALS\\nY'ALL DON'T EVEN SMILE IN YOUR PICTURES  YOU DUDES IS MISERABLE WE'RE THE UNPREDICTABLE  TORTURE OVER YOUR PHYSICAL\\nDROP A BAR  USED TO POUR WATER OVER THE CEREAL\\nANOTHER BAR  REPPIN' MY SQUAD  NOT INDIVIDUAL\\nBUT ONE NATION UNDER GOD  THAT'S INDIVISIBLE\\nMY TIME CRITICAL  HANDS OFF FROM DIGITAL\\nME AND MY LADY BARK  BACK WHEN THE PLANETS WAS DIGABLE\\nI'M COOL LIKE THAT  MY CASH RULE LIKE THAT\\nI'M CLASSIC  PATTI LABELLE  VOULEZ VOUS LIKE THAT  COME ON\\n\\n\", \"INSPECTAH DECK:]\\nIT'S ONLY LOGIC  WE GOT 'EM MOBBER THAN THE MOSH PIT\\nFIFTH BROTHER  INS HOTTER THAN THE TROPICS\\nTHE HOT SHIT I DROP QUICK\\nMAJOR PLAYER  WATCH MY STOCK LIFT\\nRAZOR BLADE SHARPNESS REGARDLESS WHOM OR WHAT\\nSOUND BOY  TURN THAT MUSIC UP\\nNAYSAYER  YOU AIN'T EVEN GOT A CLUE WHAT'S UP\\nDEADLY MELODY  THE SICKNESS  THE REMEDY\\nEVERYTHING CIRCULATE BACK AROUND EVENTUALLY\\nWE'RE THE UNPREDICTABLE  TALENT ALL NATURAL\\nGAIN  WU TANG PUMPIN' THROUGH YOUR VEINS\\nTWENTY FIVE YEARS  STILL MORE OF THE SAME\\nTHE FLOW LIKE WATER WITH THE BOILIN' FLAME\\nINS  YOUR HIGHNESS  THEY CALLIN' MY NAME\\nBOY  I WET THE SCENE SIMILAR TO FALLIN' RAIN\\nIN OUR OWN LANE  Y'ALL SOUNDIN' ALL THE SAME\\nTELL 'EM WU TANG IS ON YOUR BRAIN\\n\\n\", \"CAPPADONNA:]\\nSURVIVAL OF THE FITTEST IN COLD DAYS WITH NO MONEY\\nTHEY DON'T WANT ME WITH STACKS  THEY BETTER TAKE IT FROM ME\\nYOU KNOW THE CURRENCY GONE SOON AS YOU BREAK A TWENTY\\nSO I AIN'T DOWN IF YOU AIN'T TALKIN THAT BAND LANGUAGE\\nDEAR LORD  I'M TRYNA BUY ME A TRAIN WITH IT\\nAN AIRPLANE  SEE ME FLYIN' TO SPAIN WITH IT\\nBUT MONEY DON'T MAKE ME  AND I AIN'T GONNA CHANGE WITH IT\\nI'M IN THE HOOD  LOOKIN' GOOD  THE WAY I CAME WITH IT\\nDO IT FOR THE CS  THEY UNDERSTOOD THE GAME WITH IT\\nWE GAVE BIRTH WHEN WE UNDERSTOOD THE PAIN WITH IT\\nWHEN WE CREATE WARS  EVERYBODY IS A GANGBANGER\\nWE KILLIN' EACH OTHER  BUT WE ALL GOT THE SAME ANGER\\nNEVER GO AGAINST THE GRAIN  HOMIE  THAT'S HATEFUL\\nANOTHER DAY IN THE LIFE FOR US TO BE GRATEFUL\\nSPREAD LOVE  HOMIE  YEAH  GET A PLATEFUL\\nIT'S BETTER TO STAY FULL  SO LET'S MAKE MOVES\\nI KNOW YOUR MOMMA TOLD YOU THAT I WAS A GREAT DUDE\\nTHESE DIRTY ASS COPS  THEY KILL AND RAPE YOU\\nON SOME JASON SHIT  MIGHT CRYSTAL IN THE LAKE YOU\\nWHAT  WHAT  THEY MIGHT CRYSTAL IN THE LAKE YOU\\n\\n\", \"JACKPOT SCOTTY WOTTY:]\\nBOOM BAP BLAST'LL BLOW YOUR SLEEVES OFF\\nOUR FLASHBACK JACKS ARE SOMETHIN' TO FEED OFF\\nSMOKE AND ROAST YA  THE NO 9 POTION\\nPULL THAT SHIT  SON  WE OPEN THE OCEAN\\nWHO GIVES A FUCK WHO'S SNORTIN' AND DRINKIN' AND SMOKIN'\\nYOU GET KILLED FOR JOKIN'  EVERYBODY'S HOPIN'\\nTHAT'S ANOTHER LEVEL OF EMOTION\\nFOOD STAMPS NIGGAS DOIN' GROCERY\\nPOLICE WANNA GROPE ME PERP WALK  THEN NIGGA STREET TALK\\nWE BURY NIGGAS IN SEE SAW\\nI CARRY THE TORCH WHERE I LEAVE OFF\\nI'M GIVIN' BITCHES SOMETHIN' TO BREATHE ON\\nI RIP OFF A SHOULDER TO LEAN ON\\nIT'S FAIR GAME  IT'S TWO IN A LANE SHE TOOK TWO TRAINS\\nAND NONE OF MY RHYMES ARE TWO AND THE SAME\\nNIGGA GET COOKED ON AN OPEN FLAME\\nI'MA A HILLBILLY  PARK HILL TRAINED\\n\\n\", \"U GOD:]\\nMY RHYME STARTS RIOTS IN THE MOUNTAINS\\nTHIRTY SIX MILLION AND COUNTIN'\\nTHE HARDER THEY COME  THE HARDER I GO\\nLOOSEN UP MY ARMS  CAN I GET COMFORTABLE \\nSTAY ON MY TIP TOES  OLD SCHOOL\\nWU B THIS IS A FLIP PHONE  DUDE  YOUR SLIPS SHOWIN'\\nWHERE I COME FROM IT STAYS SNOWIN'\\nTHE GRAMMAR IS RAW  I'M SLAMMIN' THE DOOR\\nBEEZ BANG BONG IN YOUR JAW\\nI HIT 'EM IN THE HEAD WITH THE HAMMER OF THOR\\nSTARS AND BARS  MAKES ME A GENERAL\\nANYTHING LESS  MAKES ME A CRIMINAL\\nGOTTA DIG DEEP FOR THESE ROOTS\\n\\n\", \"MASTA KILLA:]\\nG O D   SHADOWBOX WITH THE L O G I C\\nON THE COUNT OF THREE  WU TANG\\nFIRST  MASTER YOUR BREATHIN'\\nI'M MENTAL ASS WHOOPIN'  I'M TEACHIN' WHEN\\nI'M SPEAKIN' I'M A CHAMPION FROM BROOKLYN\\nI'M MOVIN' SUPER NINJAS AND SHAOLIN EXECUTIONERS\\nAVENGER  A RIGHTEOUS DEFENDER\\nA GRANDMASTER FROM THE 36TH CHAMBER\\nWHOLE STYLE IS MENTALLY STRONG\\nSO STRENGTHEN IN YOUR ARMS\\nTO HOLD MY MICROPHONE YOU NEED IRON PALMS\\nREMAIN CALM  JUST MELLOW OUT\\nBIG WISE CHIEF WU TANG POISON CLANSMAN FROM THE EAST  YEAH\\n\\n\", \"GZA:]\\nENTER A WORLD OF A UNIVERSAL MIND OF ONE KIND\\nA THICK SWARM OF WORDS THAT'S EXPRESSED IN ONE RHYME\\nFOOD FOR THOUGHT  IMPOSSIBLE SLIDERS WITH THE SEASONING REGARDLESS  I SPEAK LOGIC  CLEAR REASONING\\nTHE UNCIVILIZED  GET THE MINERAL LINES  QUARTZ\\nSELF DIRECTED  CALCULATED  CONTROLLED THOUGHTS\\nA POINT OF VIEW OF THE THINKERS\\nMONUMENTAL ARCHITECTURE  AMAZING AS THE INCAS\\n\\n\", \"OUTRO:]\\n SINATRA   WU TANG \\nW T C   AH HA\\nTHE FACULTY\\nAIN'T NOTHIN' GOIN' ON  DON'T NOTHIN' MOVE\\nNOBODY SLIDE  YOU MIGHT GET HURT\\nEN GARDE  I'LL LET YOU TRY MY WU TANG STYLE\\nI'D LIKE TO TRY YOUR WU TANG STYLE  LET'S BEGIN  THEN\\nSHAOLIN SHADOWBOXING AND THE WU TANG SWORD STYLE\\nIF WHAT YOU SAY IS TRUE  THE SHAOLIN AND THE WU TANG COULD BE DANGEROUS\\nDO YOU THINK YOUR WU TANG SWORD CAN DEFEAT ME \"]\n",
            "74.46808510638297\n"
          ]
        }
      ]
    }
  ]
}