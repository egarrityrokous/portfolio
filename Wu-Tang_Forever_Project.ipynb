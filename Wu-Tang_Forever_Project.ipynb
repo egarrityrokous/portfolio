{
  "nbformat": 4,
  "nbformat_minor": 0,
  "metadata": {
    "colab": {
      "name": "Copy of Eamon_Garrity-Rokous_Project_1.ipynb",
      "provenance": [],
      "include_colab_link": true
    },
    "kernelspec": {
      "name": "python3",
      "display_name": "Python 3"
    }
  },
  "cells": [
    {
      "cell_type": "markdown",
      "metadata": {
        "id": "view-in-github",
        "colab_type": "text"
      },
      "source": [
        "<a href=\"https://colab.research.google.com/github/egarrityrokous/projects/blob/main/Wu-Tang_Forever_Project.ipynb\" target=\"_parent\"><img src=\"https://colab.research.google.com/assets/colab-badge.svg\" alt=\"Open In Colab\"/></a>"
      ]
    },
    {
      "cell_type": "markdown",
      "metadata": {
        "id": "hRUCJQs7dEbW"
      },
      "source": [
        "###Eamon Garrity-Rokous\n",
        "###CSC350\n",
        "###Project 1"
      ]
    },
    {
      "cell_type": "markdown",
      "metadata": {
        "id": "883PKZ2ItiQs"
      },
      "source": [
        "#Which Rapper Uses the Most Diverse Vocabulary in \"Wu-Tang Forever\" by Logic: A First Python Project"
      ]
    },
    {
      "cell_type": "markdown",
      "metadata": {
        "id": "rUm0Ocf-hRlU"
      },
      "source": [
        "##Introduction:\n"
      ]
    },
    {
      "cell_type": "markdown",
      "metadata": {
        "id": "y1-zna1dibsJ"
      },
      "source": [
        "Having been listening to \"Wu-Tang Foreever\" by Logic and all of the living members of the Wu-Tang Clan on repeat for the last month, I have been thinking a lot about who has my favorite verse on the track. So, I chose to base my decision on who was the most lyrical. But how was I to quantify an answer to such a question? I decided to do it with my first computer science project ever. And I decided to measure my answer by determining which rapper on the track uses the most diverse vocabulary, or the highest percentage of unique words per word rapped."
      ]
    },
    {
      "cell_type": "markdown",
      "metadata": {
        "id": "pa9C-YKgpfX0"
      },
      "source": [
        "##Steps to Complete this Project:"
      ]
    },
    {
      "cell_type": "markdown",
      "metadata": {
        "id": "J_lSCyQ9iWOA"
      },
      "source": [
        "###Step 1"
      ]
    },
    {
      "cell_type": "markdown",
      "metadata": {
        "id": "sDguxfUNigiv"
      },
      "source": [
        "1. Upload the lyrics of \"Wu-Tang Forever\" as a text file to this Google Collabatory Notebook. Almost all of the lyrics were taken from [AZLyrics](https://www.azlyrics.com/lyrics/logic/wutangforever.html). The text file ([Wu-Tang_Forever.txt](https://drive.google.com/file/d/14W99guq3fwNP0VwItncKTXJbfufHnNDt/view?usp=sharing)) will be your data source.\n",
        "2. Edit the text of the lyrics so that it doesn't include any punctuation besides brackets, colons, and apostrophes. Do this with a \"for\" loop and the \"replace\" function; replace the punctuation marks with a space.\n",
        "3. Make all of the text uppercase using the \"upper\" function.\n",
        "4. Split all of the text by left brackets using the \"split\" function; this creates a list of each section of the song by who rapped it, essentially."
      ]
    },
    {
      "cell_type": "code",
      "metadata": {
        "id": "hZl3Lx_2ydHe",
        "colab": {
          "resources": {
            "http://localhost:8080/nbextensions/google.colab/files.js": {
              "data": "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",
              "ok": true,
              "headers": [
                [
                  "content-type",
                  "application/javascript"
                ]
              ],
              "status": 200,
              "status_text": ""
            }
          },
          "base_uri": "https://localhost:8080/",
          "height": 71
        },
        "outputId": "26e1612d-6346-4c39-d8e5-52a648c5424d"
      },
      "source": [
        "from google.colab import files\n",
        "uploaded = files.upload()\n",
        "text = uploaded['Wu-Tang_Forever.txt']\n",
        "text = text.decode(encoding='utf-8', errors='strict')\n",
        "\n",
        "characters=[\".\",\"!\",\",\",\"?\",\"(\",\")\",\"-\",'\"'] \n",
        "for char in text: \n",
        "  if char in characters: \n",
        "    text=text.replace(char,\" \") \n",
        "\n",
        "text=text.upper()\n",
        "text=text.split('[')"
      ],
      "execution_count": null,
      "outputs": [
        {
          "output_type": "display_data",
          "data": {
            "text/html": [
              "\n",
              "     <input type=\"file\" id=\"files-7b72eb95-5d03-47cd-ac69-93ccb7b0afa6\" name=\"files[]\" multiple disabled />\n",
              "     <output id=\"result-7b72eb95-5d03-47cd-ac69-93ccb7b0afa6\">\n",
              "      Upload widget is only available when the cell has been executed in the\n",
              "      current browser session. Please rerun this cell to enable.\n",
              "      </output>\n",
              "      <script src=\"/nbextensions/google.colab/files.js\"></script> "
            ],
            "text/plain": [
              "<IPython.core.display.HTML object>"
            ]
          },
          "metadata": {
            "tags": []
          }
        },
        {
          "output_type": "stream",
          "text": [
            "Saving Wu-Tang_Forever.txt to Wu-Tang_Forever (1).txt\n"
          ],
          "name": "stdout"
        }
      ]
    },
    {
      "cell_type": "markdown",
      "metadata": {
        "id": "QLtEowjBkbAl"
      },
      "source": [
        "###Step 2"
      ]
    },
    {
      "cell_type": "markdown",
      "metadata": {
        "id": "NYMOp0JWkchk"
      },
      "source": [
        "1. Set the first section of the text according to the name of the rapper who rapped it (this *can* include the Intro and the Outro to the song); we are doing this using indexing, because that is the simplest way of doing so (to my knowledge). This means that for the first \"rapper\" on the track (i.e. the Intro, in this case), **you are setting them equal to the second item in the list, as the first item is a space**, based on the way we chose to split up the sections of the text into a list by left brackets.\n",
        "2. Split up that section of text into a list of words rapped by the first rapper using the \"split\" function again.\n",
        "3. Make sure the name of the first rapper (including the colon and the right bracket) is not included in the list of words assigned to the rapper. Do this using indexing again starting from either 1, 2, or 3 (according to how many words is in the rapper's name i.e. one, two, or three words).\n",
        "4. Create a new list of unique words rapped in the first verse by the first rapper. (To simplify things, just add a 2 onto the end of the name of the rapper.) The simplest way I have found to do this that I have found, without even using a loop at all, is just to use the \"set\" function in Python; this creates a set, similar to a list, of all the words in a list without any duplicates. Neat huh!\n",
        "5. Now find the perctange of unique words rapped per word for this first rapper. Do this by setting the rapper equal to the length of the set of unique words rapped by the first rapper divided by the length of total words rapped by the first rapped multiplied by 100. To see the answer, print the rapper's name, which should be now equal to that last equation.\n",
        "6. Repeat step 2 for each rapper in \"Wu-Tang Forever.\" There are 11 total, and they're names are (in order of appearance): Logic, Ghostface Killah, Raekwon, RZA, Method Man, Inspectah Deck, Cappadonna, Jackpot Scotty Wotty, U-God, Masta Killa, and GZA. There's also the Intro and the Outro to the song. For a space or hyphen in a rapper's name, just use an underscore. Remember to set each section of the text to each rapper accordingly by increasing the number in the brackets by 1 for each rapper on the track in order of appearance as you repeat this step 12 times over!"
      ]
    },
    {
      "cell_type": "code",
      "metadata": {
        "id": "Nc6KXaEfyylP",
        "colab": {
          "base_uri": "https://localhost:8080/",
          "height": 238
        },
        "outputId": "c68810d0-9ae0-43dc-8d2c-0690e184de84"
      },
      "source": [
        "Intro=text[1]\n",
        "Intro=Intro.split()\n",
        "Intro=Intro[1:]\n",
        "Intro2=set(Intro)\n",
        "Intro=len(Intro2)/len(Intro)*100\n",
        "print(\"Intro\", Intro)\n",
        "\n",
        "Logic=text[2]\n",
        "Logic=Logic.split()\n",
        "Logic=Logic[1:]\n",
        "Logic2=set(Logic)\n",
        "Logic=len(Logic2)/len(Logic)*100\n",
        "print(\"Logic\", Logic)\n",
        "\n",
        "Ghostface_Killah=text[3]\n",
        "Ghostface_Killah=Ghostface_Killah.split()\n",
        "Ghostface_Killah=Ghostface_Killah[2:]\n",
        "Ghostface_Killah2=set(Ghostface_Killah)\n",
        "Ghostface_Killah=len(Ghostface_Killah2)/len(Ghostface_Killah)*100\n",
        "print(\"Ghostface Killah\", Ghostface_Killah)\n",
        "\n",
        "Raekwon=text[4]\n",
        "Raekwon=Raekwon.split()\n",
        "Raekwon=Raekwon[1:]\n",
        "Raekwon2=set(Raekwon)\n",
        "Raekwon=len(Raekwon2)/len(Raekwon)*100\n",
        "print(\"Raekwon\", Raekwon)\n",
        "\n",
        "RZA=text[5]\n",
        "RZA=RZA.split()\n",
        "RZA=RZA[1:]\n",
        "RZA2=set(RZA)\n",
        "RZA=len(RZA2)/len(RZA)*100\n",
        "print(\"RZA\", RZA)\n",
        "\n",
        "Method_Man=text[6]\n",
        "Method_Man=Method_Man.split()\n",
        "Method_Man=Method_Man[2:]\n",
        "Method_Man2=set(Method_Man)\n",
        "Method_Man=len(Method_Man2)/len(Method_Man)*100\n",
        "print(\"Method Man\", Method_Man)\n",
        "\n",
        "Inspectah_Deck=text[7]\n",
        "Inspectah_Deck=Inspectah_Deck.split()\n",
        "Inspectah_Deck=Inspectah_Deck[2:]\n",
        "Inspectah_Deck2=set(Inspectah_Deck)\n",
        "Inspectah_Deck=len(Inspectah_Deck2)/len(Inspectah_Deck)*100\n",
        "print(\"Inspectah Deck\", Inspectah_Deck)\n",
        "\n",
        "Cappadonna=text[8]\n",
        "Cappadonna=Cappadonna.split()\n",
        "Cappadonna=Cappadonna[1:]\n",
        "Cappadonna2=set(Cappadonna)\n",
        "Cappadonna=len(Cappadonna2)/len(Cappadonna)*100\n",
        "print(\"Cappadonna\", Cappadonna)\n",
        "\n",
        "Jackpot_Scotty_Wotty=text[9]\n",
        "Jackpot_Scotty_Wotty=Jackpot_Scotty_Wotty.split()\n",
        "Jackpot_Scotty_Wotty=Jackpot_Scotty_Wotty[3:]\n",
        "Jackpot_Scotty_Wotty2=set(Jackpot_Scotty_Wotty)\n",
        "Jackpot_Scotty_Wotty=len(Jackpot_Scotty_Wotty2)/len(Jackpot_Scotty_Wotty)*100\n",
        "print(\"Jackpot Scotty Wotty\", Jackpot_Scotty_Wotty)\n",
        "\n",
        "U_God=text[10]\n",
        "U_God=U_God.split()\n",
        "U_God=U_God[2:]\n",
        "U_God2=set(U_God)\n",
        "U_God=len(U_God2)/len(U_God)*100\n",
        "print(\"U-God\", U_God)\n",
        "\n",
        "Masta_Killa=text[11]\n",
        "Masta_Killa=Masta_Killa.split()\n",
        "Masta_Killa=Masta_Killa[2:]\n",
        "Masta_Killa2=set(Masta_Killa)\n",
        "Masta_Killa=len(Masta_Killa2)/len(Masta_Killa)*100\n",
        "print(\"Masta Killa\", Masta_Killa)\n",
        "\n",
        "GZA=text[12]\n",
        "GZA=GZA.split()\n",
        "GZA=GZA[1:]\n",
        "GZA2=set(GZA)\n",
        "GZA=len(GZA2)/len(GZA)*100\n",
        "print(\"GZA\", GZA)\n",
        "\n",
        "Outro=text[13]\n",
        "Outro=Outro.split()\n",
        "Outro=Outro[1:]\n",
        "Outro2=set(Outro)\n",
        "Outro=len(Outro2)/len(Outro)*100\n",
        "print(\"Outro\", Outro)"
      ],
      "execution_count": null,
      "outputs": [
        {
          "output_type": "stream",
          "text": [
            "Intro 64.81481481481481\n",
            "Logic 74.46808510638297\n",
            "Ghostface Killah 75.0\n",
            "Raekwon 76.14678899082568\n",
            "RZA 78.88888888888889\n",
            "Method Man 74.48275862068967\n",
            "Inspectah Deck 80.80000000000001\n",
            "Cappadonna 61.69154228855721\n",
            "Jackpot Scotty Wotty 76.51515151515152\n",
            "U-God 77.31958762886599\n",
            "Masta Killa 81.60919540229885\n",
            "GZA 79.66101694915254\n",
            "Outro 68.83116883116884\n"
          ],
          "name": "stdout"
        }
      ]
    },
    {
      "cell_type": "markdown",
      "metadata": {
        "id": "ZwUNSwGLnGBo"
      },
      "source": [
        "###Step 3"
      ]
    },
    {
      "cell_type": "markdown",
      "metadata": {
        "id": "y791KersnII_"
      },
      "source": [
        "1. Import Matplotlib to this Google Collabatory file."
      ]
    },
    {
      "cell_type": "code",
      "metadata": {
        "id": "hLvwzRBrcZJH"
      },
      "source": [
        "import matplotlib.pyplot as plt"
      ],
      "execution_count": null,
      "outputs": []
    },
    {
      "cell_type": "markdown",
      "metadata": {
        "id": "VmtE9rR8nodh"
      },
      "source": [
        "###Step 4"
      ]
    },
    {
      "cell_type": "markdown",
      "metadata": {
        "id": "E3K6ZAf9nsfj"
      },
      "source": [
        "1. Create a list of rappers (i.e. each percentage of unique words per word rapped -- each answer to step 2). (You do not need to include the Intro and Outro in this step.)\n",
        "2. Create a list of the rappers' abbreviated names. To make things simple, abbreviate each rapper's name using the first three letters in their name(s). U-God can keep his name, because I'm feeling generous. :)\n",
        "3. Create the x-axis data using the list of rappers' names.\n",
        "4. Create the y-axis data using the list of rappers.\n",
        "5. Create and show a bar graph with a proper title, x-axis lable, and y-axis label for this lab. The bar graph should also properly represent which rapper uses the most diverse vocabulary in \"Wu-Tang Forever\" out of all eleven rappers on the track (i.e. who uses the greatest percentage of unique words per word rapped)."
      ]
    },
    {
      "cell_type": "code",
      "metadata": {
        "id": "zoPNNP_PcsN9",
        "colab": {
          "base_uri": "https://localhost:8080/",
          "height": 295
        },
        "outputId": "e2ba929f-236e-4363-b0fd-da0a4bab86d5"
      },
      "source": [
        "List_of_rappers=[Logic,Ghostface_Killah,Raekwon,RZA,Method_Man,Inspectah_Deck,Cappadonna,Jackpot_Scotty_Wotty,U_God,Masta_Killa,GZA]\n",
        "List_of_rappers_names=[\"Log.\",\"Gho.\",\"Rae.\",\"RZA\",\"Met.\",\"Ins.\",\"Cap.\",\"Jac.\",\"U-God\",\"Mas.\",\"GZA\"]\n",
        "x_data=List_of_rappers_names\n",
        "y_data=List_of_rappers\n",
        "plt.bar(x_data,y_data)\n",
        "plt.title(\"Rappers in 'Wu-Tang Forever' by Percent of Unique Words per Word\")\n",
        "plt.xlabel(\"Rapper\")\n",
        "plt.ylabel(\"Percent\")\n",
        "\n",
        "plt.show()"
      ],
      "execution_count": null,
      "outputs": [
        {
          "output_type": "display_data",
          "data": {
            "image/png": "[encoded data removed]",
            "text/plain": [
              "<Figure size 432x288 with 1 Axes>"
            ]
          },
          "metadata": {
            "tags": []
          }
        }
      ]
    },
    {
      "cell_type": "markdown",
      "metadata": {
        "id": "tldw6X2kpNO0"
      },
      "source": [
        "##Conclusion"
      ]
    },
    {
      "cell_type": "markdown",
      "metadata": {
        "id": "ApULsvm-pP4d"
      },
      "source": [
        "Based on the data source used for this particular project, your code cells and bar graph should produce the answer of Masta Killa using the most diverse vocabulary on \"Wu-Tang Forever,\" with almost 81% of the words he rapped being unique words. After uploading the text file, using a loop to elimate all the punctuation marks, making all the letters uppercase, and creating a list of the sections of the song based on left brackets in the text, it is up to the coder from there to determine how they will code each answer to the question: which rapper uses the most diverse vocabulary on \"Wu-Tang Forever.\" All in all, though, the steps provided in this project were the simplest method I found for producing each correct answer. Basically, I just used a long sequence of codes I repeated for each rapper on the track, but it got the job done! Creating the bar graph was fairly simple, using a list of rappers' names (x-axis data) and a list of rappers' percentages of unique words per word (y-axis data). That said, now you know which rapper has the most diverse vocabulary on the track! Yet a key aspect in this project to notice is that all the rappers' percentages are fairly clumped together; minus a few exceptions, like the Intro, the Outro, and, to be honest, Cappadonna, all the rappers fall within about 7 percentage points of each other. So it's up to you to decide whose verse you yourself like the most, based on the fact that most of the rappers on this track use similarly diverse vocabularies. The question remains, however: based on what criteria will you determine your answer? This is just one out of the many possible ways I chose to do so!"
      ]
    }
  ]
}